{
 "cells": [
  {
   "cell_type": "markdown",
   "metadata": {},
   "source": [
    "$$cost=\\dfrac{1}{N}\\sum ^{N}_{n=1}\\left( \\widehat{y}_{n}-y_{n}\\right) ^{2}$$\n",
    "\n",
    "三、[梯度下降](https://so.csdn.net/so/search?q=%E6%A2%AF%E5%BA%A6%E4%B8%8B%E9%99%8D&spm=1001.2101.3001.7020)\n",
    "------------------------------------------------------------------------------------------------------\n",
    "\n",
    "类似[牛顿迭代法](https://so.csdn.net/so/search?q=%E7%89%9B%E9%A1%BF%E8%BF%AD%E4%BB%A3%E6%B3%95&spm=1001.2101.3001.7020)/ 二分法，对cost func 求导 , 利用偏导进行迭代，使得cost func 达到最小值。\n",
    "\n",
    "![](https://img-blog.csdnimg.cn/img_convert/9b8fe9d396ca643d6b62693bf627323c.png)\n",
    "\n",
    "具体的求导过程\n",
    "\n",
    "![](https://img-blog.csdnimg.cn/img_convert/f16d0ff50dd6280d501a1cd928571a45.png)\n",
    "\n",
    "关键迭代式：\n",
    "\n",
    "![](https://img-blog.csdnimg.cn/img_convert/8821b49fbfe7e8853d1e1e82a73a521e.png)\n"
   ]
  },
  {
   "cell_type": "markdown",
   "metadata": {},
   "source": [
    "## 梯度下降法"
   ]
  },
  {
   "cell_type": "code",
   "execution_count": 1,
   "metadata": {},
   "outputs": [
    {
     "name": "stdout",
     "output_type": "stream",
     "text": [
      "w =  2.0 epoch =  189\n",
      "After train forward(4) =  7.99999996372013\n"
     ]
    },
    {
     "data": {
      "image/png": "[encoded data removed]",
      "text/plain": [
       "<Figure size 432x288 with 1 Axes>"
      ]
     },
     "metadata": {
      "needs_background": "light"
     },
     "output_type": "display_data"
    }
   ],
   "source": [
    "import matplotlib.pyplot as plt\n",
    "\n",
    "def function(x, w):         #数学模型\n",
    "    return x * w \n",
    "\n",
    "def cost(x, y, w):          #损失函数\n",
    "    cost = 0.0\n",
    "    for x_val, y_val in zip(x,y):\n",
    "        y_pred = function(x_val, w)\n",
    "        cost += (y_pred - y_val) ** 2\n",
    "    return cost/len(x)\n",
    "\n",
    "def gradient(x, y, w):      #梯度函数\n",
    "    grad = 0.0\n",
    "    for x_val, y_val in zip(x, y):\n",
    "        grad += x_val*(x_val*w-y_val)\n",
    "    return (2*grad)/len(x)\n",
    "\n",
    "x_data = [1.0, 2.0, 3.0]\n",
    "y_data = [2.0, 4.0, 6.0]\n",
    "alpha = 0.01\n",
    "w = 1.0\n",
    "epoch_list = []\n",
    "cost_list = []\n",
    "epoch = 0\n",
    "last_cost = cost(x_data, y_data, w)\n",
    "\n",
    "while True:\n",
    "    grad_val = gradient(x_data, y_data, w)\n",
    "    w -= alpha*grad_val\n",
    "    this_cost = cost(x_data, y_data, w)\n",
    "    # print('epoch:', epoch, 'w=', w, 'loss=', this_cost)\n",
    "    epoch_list.append(epoch)\n",
    "    cost_list.append(this_cost)\n",
    "    epoch += 1\n",
    "    if((last_cost - this_cost) < 1e-16):\n",
    "        break\n",
    "    last_cost = this_cost\n",
    "    \n",
    "print(\"w = \",\"%.1f\"%w,\"epoch = \",epoch)\n",
    "print(\"After train forward(4) = \",function(4, w))\n",
    "plt.plot(epoch_list,cost_list)\n",
    "plt.ylabel('cost')\n",
    "plt.xlabel('epoch')\n",
    "plt.show()"
   ]
  },
  {
   "cell_type": "code",
   "execution_count": 2,
   "metadata": {},
   "outputs": [
    {
     "name": "stdout",
     "output_type": "stream",
     "text": [
      "w =  2.0 b =  0.0 epoch =  6063\n",
      "After train forward(4) =  7.999999713401953\n"
     ]
    },
    {
     "data": {
      "image/png": "[encoded data removed]",
      "text/plain": [
       "<Figure size 432x288 with 1 Axes>"
      ]
     },
     "metadata": {
      "needs_background": "light"
     },
     "output_type": "display_data"
    }
   ],
   "source": [
    "import matplotlib.pyplot as plt\n",
    "\n",
    "def function(x, w, b):         #数学模型\n",
    "    return x * w + b \n",
    "\n",
    "def cost(x, y, w, b):          #损失函数\n",
    "    cost = 0.0\n",
    "    for x_val, y_val in zip(x,y):\n",
    "        y_pred = function(x_val, w, b)\n",
    "        cost += (y_pred - y_val) ** 2.0\n",
    "    return cost/len(x)\n",
    "\n",
    "def gradient_w(x, y, w,b):      #梯度函数\n",
    "    grad = 0.0\n",
    "    for x_val, y_val in zip(x, y):\n",
    "        grad += x_val*(x_val*w+b-y_val)\n",
    "    return (2*grad)/len(x)\n",
    "\n",
    "def gradient_b(x, y, w, b): #\n",
    "    grad = 0.0\n",
    "    for x_val, y_val in zip(x, y):\n",
    "        grad += x_val*w+b-y_val\n",
    "    return (2*grad)/len(x)\n",
    "\n",
    "x_data = [1.0, 2.0, 3.0]\n",
    "y_data = [2.0, 4.0, 6.0]\n",
    "\n",
    "alpha = 0.01\n",
    "w = 1.5\n",
    "b = 1.0\n",
    "\n",
    "epoch_list = []\n",
    "cost_list = []\n",
    "epoch = 0\n",
    "\n",
    "last_cost = cost(x_data, y_data, w, b)\n",
    "while True:\n",
    "    grad_val_w = gradient_w(x_data, y_data, w, b)\n",
    "    w -= alpha*grad_val_w\n",
    "    grad_val_b = gradient_b(x_data, y_data, w, b)\n",
    "    b -= alpha*grad_val_b\n",
    "    this_cost = cost(x_data, y_data, w, b)\n",
    "    # print('epoch:', epoch, 'w=', w, 'loss=', this_cost)\n",
    "    epoch_list.append(epoch)\n",
    "    cost_list.append(this_cost)\n",
    "    epoch += 1\n",
    "    if((abs(last_cost) - abs(this_cost)) < 1e-16):\n",
    "        break\n",
    "    last_cost = this_cost\n",
    "    \n",
    "print(\"w = \",\"%.1f\"%w,\"b = \",\"%.1f\"%b,\"epoch = \",epoch)\n",
    "print(\"After train forward(4) = \",function(4, w, b))\n",
    "plt.plot(epoch_list,cost_list)\n",
    "plt.ylabel('cost')\n",
    "plt.xlabel('epoch')\n",
    "plt.show()"
   ]
  },
  {
   "cell_type": "markdown",
   "metadata": {},
   "source": [
    "## 随机梯度下降"
   ]
  },
  {
   "cell_type": "code",
   "execution_count": 3,
   "metadata": {},
   "outputs": [
    {
     "name": "stdout",
     "output_type": "stream",
     "text": [
      "predict (before training) 4 4.0\n",
      "predict (after training) 4 7.9999999999996945\n"
     ]
    },
    {
     "data": {
      "image/png": "[encoded data removed]",
      "text/plain": [
       "<Figure size 432x288 with 1 Axes>"
      ]
     },
     "metadata": {
      "needs_background": "light"
     },
     "output_type": "display_data"
    }
   ],
   "source": [
    "import matplotlib.pyplot as plt\n",
    " \n",
    "x_data = [1.0, 2.0, 3.0]\n",
    "y_data = [2.0, 4.0, 6.0]\n",
    " \n",
    "w = 1.0\n",
    " \n",
    "def forward(x):\n",
    "    return x*w\n",
    " \n",
    "# calculate loss function\n",
    "def loss(x, y):\n",
    "    y_pred = forward(x)\n",
    "    return (y_pred - y)**2\n",
    " \n",
    "# define the gradient function  sgd\n",
    "def gradient(x, y):\n",
    "    return 2*x*(x*w - y)\n",
    " \n",
    "epoch_list = []\n",
    "loss_list = []\n",
    "print('predict (before training)', 4, forward(4))\n",
    "for epoch in range(100):\n",
    "    for x,y in zip(x_data, y_data):\n",
    "        grad = gradient(x,y)\n",
    "        w = w - 0.01*grad    # update weight by every grad of sample of training set\n",
    "        # print(\"\\tgrad:\", x, y,grad)\n",
    "        l = loss(x,y)\n",
    "    # print(\"progress:\",epoch,\"w=\",w,\"loss=\",l)\n",
    "    epoch_list.append(epoch)\n",
    "    loss_list.append(l)\n",
    " \n",
    "print('predict (after training)', 4, forward(4))\n",
    "plt.plot(epoch_list,loss_list)\n",
    "plt.ylabel('loss')\n",
    "plt.xlabel('epoch')\n",
    "plt.show() "
   ]
  }
 ],
 "metadata": {
  "interpreter": {
   "hash": "44143c5ac5f3ceb8e37c69c3af73325ae55d21292b2c7b54871fd886482dde4c"
  },
  "kernelspec": {
   "display_name": "Python 3.6.13 ('pytorch')",
   "language": "python",
   "name": "python3"
  },
  "language_info": {
   "codemirror_mode": {
    "name": "ipython",
    "version": 3
   },
   "file_extension": ".py",
   "mimetype": "text/x-python",
   "name": "python",
   "nbconvert_exporter": "python",
   "pygments_lexer": "ipython3",
   "version": "3.6.13"
  },
  "orig_nbformat": 4
 },
 "nbformat": 4,
 "nbformat_minor": 2
}
